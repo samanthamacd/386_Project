{
 "cells": [
  {
   "cell_type": "code",
   "execution_count": 8,
   "metadata": {},
   "outputs": [],
   "source": [
    "import streamlit as st\n",
    "import pandas as pd\n",
    "import matplotlib.pyplot as plt\n",
    "import plotly.express as px\n"
   ]
  },
  {
   "cell_type": "code",
   "execution_count": 2,
   "metadata": {},
   "outputs": [],
   "source": [
    "df_movies = pd.read_csv('MovieData.csv')"
   ]
  },
  {
   "cell_type": "code",
   "execution_count": 11,
   "metadata": {},
   "outputs": [
    {
     "data": {
      "text/plain": [
       "DeltaGenerator()"
      ]
     },
     "execution_count": 11,
     "metadata": {},
     "output_type": "execute_result"
    }
   ],
   "source": [
    "st.title('Movie Data Insights')\n",
    "\n",
    "st.header('Movie Revenue Over Time')\n",
    "selected_genre = st.selectbox('Select a Genre', df_movies['Primary_Genre'].unique())\n",
    "filtered_data_by_genre = df_movies[df_movies['Primary_Genre'] == selected_genre]\n",
    "fig1 = px.line(filtered_data_by_genre, x='Year', y='Revenue', title='Revenue Over Time by Genre')\n",
    "st.plotly_chart(fig1)\n",
    "\n",
    "st.header('Distribution of Movie Ratings')\n",
    "selected_year = st.slider('Select a Year', int(df_movies['Year'].min()), int(df_movies['Year'].max()), 2020)\n",
    "filtered_data_by_year = df_movies[df_movies['Year'] == selected_year]\n",
    "fig2 = px.histogram(filtered_data_by_year, x='Rating', title='Movie Ratings Distribution')\n",
    "st.plotly_chart(fig2)\n",
    "\n",
    "st.header('Gender Diversity in Top Films')\n",
    "top_film_each_year = df_movies.loc[df_movies.groupby('Year')['Rating'].idxmax()]\n",
    "fig3 = px.bar(top_film_each_year, x='Year', y=['Female_Ratio', 'Male_Ratio'], title='Gender Diversity in Top Films Each Year')\n",
    "st.plotly_chart(fig3)"
   ]
  }
 ],
 "metadata": {
  "kernelspec": {
   "display_name": "base",
   "language": "python",
   "name": "python3"
  },
  "language_info": {
   "codemirror_mode": {
    "name": "ipython",
    "version": 3
   },
   "file_extension": ".py",
   "mimetype": "text/x-python",
   "name": "python",
   "nbconvert_exporter": "python",
   "pygments_lexer": "ipython3",
   "version": "3.10.12"
  },
  "orig_nbformat": 4
 },
 "nbformat": 4,
 "nbformat_minor": 2
}
